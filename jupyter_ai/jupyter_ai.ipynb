{
 "cells": [
  {
   "cell_type": "code",
   "execution_count": 3,
   "id": "913a3aaa-9407-4b5d-a480-e4a528852090",
   "metadata": {},
   "outputs": [
    {
     "ename": "SyntaxError",
     "evalue": "expected ':' (2384132830.py, line 4)",
     "output_type": "error",
     "traceback": [
      "\u001b[0;36m  Cell \u001b[0;32mIn[3], line 4\u001b[0;36m\u001b[0m\n\u001b[0;31m    for _ in range(n)\u001b[0m\n\u001b[0m                     ^\u001b[0m\n\u001b[0;31mSyntaxError\u001b[0m\u001b[0;31m:\u001b[0m expected ':'\n"
     ]
    }
   ],
   "source": [
    "def fibonacci(n):\n",
    "    a, b = 0, 1\n",
    "    result = []\n",
    "    for _ in range(n)\n",
    "        result.append(a)\n",
    "        a, b = b, a + b\n",
    "    return result"
   ]
  },
  {
   "cell_type": "code",
   "execution_count": 2,
   "id": "02f9a1cf-3460-4213-829b-cd26be41511b",
   "metadata": {},
   "outputs": [
    {
     "name": "stdout",
     "output_type": "stream",
     "text": [
      "[0, 1, 1, 2, 3, 5, 8, 13, 21, 34, 55, 89, 144, 233, 377, 610, 987, 1597, 2584, 4181, 6765, 10946, 17711, 28657, 46368, 75025, 121393, 196418, 317811, 514229, 832040, 1346269, 2178309, 3524578, 5702887, 9227465, 14930352, 24157817, 39088169, 63245986, 102334155, 165580141, 267914296, 433494437, 701408733, 1134903170, 1836311903, 2971215073, 4807526976, 7778742049]\n"
     ]
    }
   ],
   "source": [
    "print(fibonacci(50))"
   ]
  },
  {
   "cell_type": "code",
   "execution_count": null,
   "id": "d62f4c6a-3a48-452c-a71b-20b8ba6c5707",
   "metadata": {},
   "outputs": [],
   "source": [
    "import numpy as np\n",
    "\n",
    "def linear_regression_gradient_descent(X, y, learning_rate=0.01, num_iterations=1000):\n",
    "    m = 0  # Initialize slope to 0\n",
    "    b = 0  # Initialize intercept to 0\n",
    "\n",
    "    n = len(y)  # Number of samples\n",
    "\n",
    "    for _ in range(num_iterations):\n",
    "        # Calculate predictions\n",
    "        y_predicted = m * X + b\n",
    "\n",
    "        # Calculate gradients\n",
    "        dm = -(2 / n) * np.sum(X * (y - y_predicted))\n",
    "        db = -(2 / n) * np.sum(y - y_predicted)\n",
    "\n",
    "        # Update parameters\n",
    "        m = m - learning_rate * dm\n",
    "        b = b - learning_rate * db\n",
    "\n",
    "    return m, b"
   ]
  }
 ],
 "metadata": {
  "kernelspec": {
   "display_name": "Python 3 (ipykernel)",
   "language": "python",
   "name": "python3"
  },
  "language_info": {
   "codemirror_mode": {
    "name": "ipython",
    "version": 3
   },
   "file_extension": ".py",
   "mimetype": "text/x-python",
   "name": "python",
   "nbconvert_exporter": "python",
   "pygments_lexer": "ipython3",
   "version": "3.11.7"
  }
 },
 "nbformat": 4,
 "nbformat_minor": 5
}
